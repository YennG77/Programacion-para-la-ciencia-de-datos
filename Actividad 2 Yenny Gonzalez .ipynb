{
 "cells": [
  {
   "cell_type": "markdown",
   "id": "d548f2ce-c82a-44c6-842b-0107cf10cd6d",
   "metadata": {},
   "source": [
    "# **Actividad 2. Programa con IF para la limpieza de datos.**"
   ]
  },
  {
   "cell_type": "code",
   "execution_count": 15,
   "id": "7eb76a36-482a-4bec-b2ca-7d419483dc7a",
   "metadata": {},
   "outputs": [
    {
     "name": "stdout",
     "output_type": "stream",
     "text": [
      "   Survived  Pclass                                               Name  \\\n",
      "0         0       3                             Mr. Owen Harris Braund   \n",
      "1         1       1  Mrs. John Bradley (Florence Briggs Thayer) Cum...   \n",
      "2         1       3                              Miss. Laina Heikkinen   \n",
      "3         1       1        Mrs. Jacques Heath (Lily May Peel) Futrelle   \n",
      "4         0       3                            Mr. William Henry Allen   \n",
      "\n",
      "      Sex   Age  Siblings/Spouses Aboard  Parents/Children Aboard     Fare  \n",
      "0    male  22.0                        1                        0   7.2500  \n",
      "1  female  38.0                        1                        0  71.2833  \n",
      "2  female  26.0                        0                        0   7.9250  \n",
      "3  female  35.0                        1                        0  53.1000  \n",
      "4    male  35.0                        0                        0   8.0500  \n"
     ]
    }
   ],
   "source": [
    "import pandas as pd\n",
    "\n",
    "# Carga un archivo CSV en un DataFrame\n",
    "df = pd.read_csv('titanic.csv')\n",
    "\n",
    "# Muestra las primeras filas\n",
    "print(df.head())"
   ]
  },
  {
   "cell_type": "markdown",
   "id": "1f75944c-5ca5-455f-b383-24b889a159b1",
   "metadata": {},
   "source": [
    "\n",
    "## *1.Identificación Del tipo De Variables Iniciales.**"
   ]
  },
  {
   "cell_type": "code",
   "execution_count": 16,
   "id": "34d0019e-c7a7-4c60-aa85-c6602f009e87",
   "metadata": {},
   "outputs": [
    {
     "name": "stdout",
     "output_type": "stream",
     "text": [
      "<class 'pandas.core.frame.DataFrame'>\n",
      "RangeIndex: 887 entries, 0 to 886\n",
      "Data columns (total 8 columns):\n",
      " #   Column                   Non-Null Count  Dtype  \n",
      "---  ------                   --------------  -----  \n",
      " 0   Survived                 887 non-null    int64  \n",
      " 1   Pclass                   887 non-null    int64  \n",
      " 2   Name                     887 non-null    object \n",
      " 3   Sex                      887 non-null    object \n",
      " 4   Age                      887 non-null    float64\n",
      " 5   Siblings/Spouses Aboard  887 non-null    int64  \n",
      " 6   Parents/Children Aboard  887 non-null    int64  \n",
      " 7   Fare                     887 non-null    float64\n",
      "dtypes: float64(2), int64(4), object(2)\n",
      "memory usage: 55.6+ KB\n"
     ]
    }
   ],
   "source": [
    "## Datos Variables iniciales\n",
    "df.info()"
   ]
  },
  {
   "cell_type": "markdown",
   "id": "3b9267eb-37ce-4dd8-a524-c6b59336c1bb",
   "metadata": {},
   "source": [
    "## *2.Limpieza de datos*"
   ]
  },
  {
   "cell_type": "code",
   "execution_count": 18,
   "id": "38957bed-c1f8-4a56-ac4d-bc8b1e6121f0",
   "metadata": {
    "scrolled": true
   },
   "outputs": [
    {
     "name": "stdout",
     "output_type": "stream",
     "text": [
      "0      22\n",
      "1      38\n",
      "2      26\n",
      "3      35\n",
      "4      35\n",
      "       ..\n",
      "882    27\n",
      "883    19\n",
      "884     7\n",
      "885    26\n",
      "886    32\n",
      "Name: Age, Length: 887, dtype: int32\n"
     ]
    }
   ],
   "source": [
    "# Aproximar al valor más cercano la edad de los pasajeros eliminando los decimales, adicional sacar un resumen.\n",
    "\n",
    "df['Age'] = df['Age'].astype(int)\n",
    "print(df['Age'])"
   ]
  },
  {
   "cell_type": "code",
   "execution_count": 14,
   "id": "f360bc0c-a112-44ad-bb8a-7f6e5a3b7daa",
   "metadata": {},
   "outputs": [
    {
     "name": "stdout",
     "output_type": "stream",
     "text": [
      "   Survived  Pclass                                               Name  \\\n",
      "0         0       3                             Mr. Owen Harris Braund   \n",
      "1         1       1  Mrs. John Bradley (Florence Briggs Thayer) Cum...   \n",
      "2         1       3                              Miss. Laina Heikkinen   \n",
      "3         1       1        Mrs. Jacques Heath (Lily May Peel) Futrelle   \n",
      "4         0       3                            Mr. William Henry Allen   \n",
      "\n",
      "      Sex  Age  Siblings/Spouses Aboard  Parents/Children Aboard     Fare  \\\n",
      "0    male   22                        1                        0   7.2500   \n",
      "1  female   38                        1                        0  71.2833   \n",
      "2  female   26                        0                        0   7.9250   \n",
      "3  female   35                        1                        0  53.1000   \n",
      "4    male   35                        0                        0   8.0500   \n",
      "\n",
      "   Familiares totales  \n",
      "0                   1  \n",
      "1                   1  \n",
      "2                   0  \n",
      "3                   1  \n",
      "4                   0  \n"
     ]
    }
   ],
   "source": [
    "# Creación de una columna que contenga la sumatoria de \"Siblings/Spouses Aboard\" y \"Parents/Children Aboard\" con el fin de totalizar la cantidad de familiares.\n",
    "\n",
    "df['Familiares totales'] = df['Siblings/Spouses Aboard'] + df['Parents/Children Aboard']\n",
    "print(df.head())\n"
   ]
  },
  {
   "cell_type": "markdown",
   "id": "e91fd991-8f37-4356-980a-0c3b94631f60",
   "metadata": {},
   "source": [
    "## *3.Informe.*"
   ]
  },
  {
   "cell_type": "markdown",
   "id": "3a5f016a-a4c8-4fa4-9434-b833b94dd5fd",
   "metadata": {},
   "source": [
    "#### Con esta función se crea automanticamente un informe con la table df que calcula la totalidad de las siguientes variables:\n",
    "#### 1.Contar\n",
    "#### 2.Media\n",
    "#### 3.Desviación\n",
    "#### 4.Minimo\n",
    "#### 5.Cuartiles\n",
    "#### 6.Maximo"
   ]
  },
  {
   "cell_type": "code",
   "execution_count": 19,
   "id": "c6d475bd-9bfe-4264-8971-55c0b50a336f",
   "metadata": {},
   "outputs": [
    {
     "data": {
      "text/html": [
       "<div>\n",
       "<style scoped>\n",
       "    .dataframe tbody tr th:only-of-type {\n",
       "        vertical-align: middle;\n",
       "    }\n",
       "\n",
       "    .dataframe tbody tr th {\n",
       "        vertical-align: top;\n",
       "    }\n",
       "\n",
       "    .dataframe thead th {\n",
       "        text-align: right;\n",
       "    }\n",
       "</style>\n",
       "<table border=\"1\" class=\"dataframe\">\n",
       "  <thead>\n",
       "    <tr style=\"text-align: right;\">\n",
       "      <th></th>\n",
       "      <th>Survived</th>\n",
       "      <th>Pclass</th>\n",
       "      <th>Age</th>\n",
       "      <th>Siblings/Spouses Aboard</th>\n",
       "      <th>Parents/Children Aboard</th>\n",
       "      <th>Fare</th>\n",
       "    </tr>\n",
       "  </thead>\n",
       "  <tbody>\n",
       "    <tr>\n",
       "      <th>count</th>\n",
       "      <td>887.000000</td>\n",
       "      <td>887.000000</td>\n",
       "      <td>887.000000</td>\n",
       "      <td>887.000000</td>\n",
       "      <td>887.000000</td>\n",
       "      <td>887.00000</td>\n",
       "    </tr>\n",
       "    <tr>\n",
       "      <th>mean</th>\n",
       "      <td>0.385569</td>\n",
       "      <td>2.305524</td>\n",
       "      <td>29.455468</td>\n",
       "      <td>0.525366</td>\n",
       "      <td>0.383315</td>\n",
       "      <td>32.30542</td>\n",
       "    </tr>\n",
       "    <tr>\n",
       "      <th>std</th>\n",
       "      <td>0.487004</td>\n",
       "      <td>0.836662</td>\n",
       "      <td>14.129919</td>\n",
       "      <td>1.104669</td>\n",
       "      <td>0.807466</td>\n",
       "      <td>49.78204</td>\n",
       "    </tr>\n",
       "    <tr>\n",
       "      <th>min</th>\n",
       "      <td>0.000000</td>\n",
       "      <td>1.000000</td>\n",
       "      <td>0.000000</td>\n",
       "      <td>0.000000</td>\n",
       "      <td>0.000000</td>\n",
       "      <td>0.00000</td>\n",
       "    </tr>\n",
       "    <tr>\n",
       "      <th>25%</th>\n",
       "      <td>0.000000</td>\n",
       "      <td>2.000000</td>\n",
       "      <td>20.000000</td>\n",
       "      <td>0.000000</td>\n",
       "      <td>0.000000</td>\n",
       "      <td>7.92500</td>\n",
       "    </tr>\n",
       "    <tr>\n",
       "      <th>50%</th>\n",
       "      <td>0.000000</td>\n",
       "      <td>3.000000</td>\n",
       "      <td>28.000000</td>\n",
       "      <td>0.000000</td>\n",
       "      <td>0.000000</td>\n",
       "      <td>14.45420</td>\n",
       "    </tr>\n",
       "    <tr>\n",
       "      <th>75%</th>\n",
       "      <td>1.000000</td>\n",
       "      <td>3.000000</td>\n",
       "      <td>38.000000</td>\n",
       "      <td>1.000000</td>\n",
       "      <td>0.000000</td>\n",
       "      <td>31.13750</td>\n",
       "    </tr>\n",
       "    <tr>\n",
       "      <th>max</th>\n",
       "      <td>1.000000</td>\n",
       "      <td>3.000000</td>\n",
       "      <td>80.000000</td>\n",
       "      <td>8.000000</td>\n",
       "      <td>6.000000</td>\n",
       "      <td>512.32920</td>\n",
       "    </tr>\n",
       "  </tbody>\n",
       "</table>\n",
       "</div>"
      ],
      "text/plain": [
       "         Survived      Pclass         Age  Siblings/Spouses Aboard  \\\n",
       "count  887.000000  887.000000  887.000000               887.000000   \n",
       "mean     0.385569    2.305524   29.455468                 0.525366   \n",
       "std      0.487004    0.836662   14.129919                 1.104669   \n",
       "min      0.000000    1.000000    0.000000                 0.000000   \n",
       "25%      0.000000    2.000000   20.000000                 0.000000   \n",
       "50%      0.000000    3.000000   28.000000                 0.000000   \n",
       "75%      1.000000    3.000000   38.000000                 1.000000   \n",
       "max      1.000000    3.000000   80.000000                 8.000000   \n",
       "\n",
       "       Parents/Children Aboard       Fare  \n",
       "count               887.000000  887.00000  \n",
       "mean                  0.383315   32.30542  \n",
       "std                   0.807466   49.78204  \n",
       "min                   0.000000    0.00000  \n",
       "25%                   0.000000    7.92500  \n",
       "50%                   0.000000   14.45420  \n",
       "75%                   0.000000   31.13750  \n",
       "max                   6.000000  512.32920  "
      ]
     },
     "execution_count": 19,
     "metadata": {},
     "output_type": "execute_result"
    }
   ],
   "source": [
    "df.describe()"
   ]
  },
  {
   "cell_type": "code",
   "execution_count": null,
   "id": "28d22898-c83c-48ea-8e1d-e00e8ef262c7",
   "metadata": {},
   "outputs": [],
   "source": []
  }
 ],
 "metadata": {
  "kernelspec": {
   "display_name": "Python 3 (ipykernel)",
   "language": "python",
   "name": "python3"
  },
  "language_info": {
   "codemirror_mode": {
    "name": "ipython",
    "version": 3
   },
   "file_extension": ".py",
   "mimetype": "text/x-python",
   "name": "python",
   "nbconvert_exporter": "python",
   "pygments_lexer": "ipython3",
   "version": "3.11.7"
  }
 },
 "nbformat": 4,
 "nbformat_minor": 5
}

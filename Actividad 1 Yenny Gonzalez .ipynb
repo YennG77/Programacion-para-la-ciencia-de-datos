{
 "cells": [
  {
   "cell_type": "markdown",
   "id": "b069bdf5-e6f8-48c0-88a5-0b3ebf681ea0",
   "metadata": {},
   "source": [
    "# **Actividad 1. Funciones y tipos de variables.**"
   ]
  },
  {
   "cell_type": "code",
   "execution_count": 6,
   "id": "6c4c7406-e8f2-4713-938f-558f42cb0f9b",
   "metadata": {},
   "outputs": [],
   "source": [
    "import pandas as pd"
   ]
  },
  {
   "cell_type": "code",
   "execution_count": 7,
   "id": "6ae4588c-151e-4b87-86a3-9a8f7b526566",
   "metadata": {},
   "outputs": [],
   "source": [
    "# CARGAR EL ARCHIVO CSV\n",
    "df = pd.read_csv('census_income.csv') "
   ]
  },
  {
   "cell_type": "code",
   "execution_count": 22,
   "id": "9f7cd228-13ca-42a4-af02-33391bf1ae42",
   "metadata": {
    "scrolled": true
   },
   "outputs": [
    {
     "name": "stdout",
     "output_type": "stream",
     "text": [
      "   Unnamed: 0  age         workclass  fnlwgt  education  education-num  \\\n",
      "0           0   39         State-gov   77516  Bachelors             13   \n",
      "1           1   50  Self-emp-not-inc   83311  Bachelors             13   \n",
      "2           2   38           Private  215646    HS-grad              9   \n",
      "3           3   53           Private  234721       11th              7   \n",
      "4           4   28           Private  338409  Bachelors             13   \n",
      "\n",
      "       marital-status         occupation   relationship   race     sex  \\\n",
      "0       Never-married       Adm-clerical  Not-in-family  White    Male   \n",
      "1  Married-civ-spouse    Exec-managerial        Husband  White    Male   \n",
      "2            Divorced  Handlers-cleaners  Not-in-family  White    Male   \n",
      "3  Married-civ-spouse  Handlers-cleaners        Husband  Black    Male   \n",
      "4  Married-civ-spouse     Prof-specialty           Wife  Black  Female   \n",
      "\n",
      "   capital-gain  capital-loss  hours-per-week native-country income  \n",
      "0          2174             0              40  United-States  <=50K  \n",
      "1             0             0              13  United-States  <=50K  \n",
      "2             0             0              40  United-States  <=50K  \n",
      "3             0             0              40  United-States  <=50K  \n",
      "4             0             0              40           Cuba  <=50K  \n"
     ]
    }
   ],
   "source": [
    "# MOSTRAR EL ARCHIVO CARGADO\n",
    "print(df.head())"
   ]
  },
  {
   "cell_type": "markdown",
   "id": "4caae618-ee7f-4c6b-9d64-52ea5108501c",
   "metadata": {},
   "source": [
    "# 1.Identificación Del tipo De Variables\n"
   ]
  },
  {
   "cell_type": "code",
   "execution_count": 11,
   "id": "845a7dd6-9174-4d89-b252-fa6cbdd9232f",
   "metadata": {},
   "outputs": [
    {
     "name": "stdout",
     "output_type": "stream",
     "text": [
      "<class 'pandas.core.frame.DataFrame'>\n",
      "RangeIndex: 48842 entries, 0 to 48841\n",
      "Data columns (total 16 columns):\n",
      " #   Column          Non-Null Count  Dtype \n",
      "---  ------          --------------  ----- \n",
      " 0   Unnamed: 0      48842 non-null  int64 \n",
      " 1   age             48842 non-null  int64 \n",
      " 2   workclass       47879 non-null  object\n",
      " 3   fnlwgt          48842 non-null  int64 \n",
      " 4   education       48842 non-null  object\n",
      " 5   education-num   48842 non-null  int64 \n",
      " 6   marital-status  48842 non-null  object\n",
      " 7   occupation      47876 non-null  object\n",
      " 8   relationship    48842 non-null  object\n",
      " 9   race            48842 non-null  object\n",
      " 10  sex             48842 non-null  object\n",
      " 11  capital-gain    48842 non-null  int64 \n",
      " 12  capital-loss    48842 non-null  int64 \n",
      " 13  hours-per-week  48842 non-null  int64 \n",
      " 14  native-country  48568 non-null  object\n",
      " 15  income          48842 non-null  object\n",
      "dtypes: int64(7), object(9)\n",
      "memory usage: 6.0+ MB\n"
     ]
    }
   ],
   "source": [
    "df.info()"
   ]
  },
  {
   "cell_type": "markdown",
   "id": "4c1ece61-cc5f-4858-b4ca-5316accf2214",
   "metadata": {},
   "source": [
    "# 2.Cantidad De Valores.\n"
   ]
  },
  {
   "cell_type": "code",
   "execution_count": 13,
   "id": "0807bf92-5988-48d5-9a3c-7115f57ff471",
   "metadata": {
    "scrolled": true
   },
   "outputs": [
    {
     "name": "stdout",
     "output_type": "stream",
     "text": [
      "Columna: Unnamed: 0, Cantidad de valores: 48842\n",
      "Columna: age, Cantidad de valores: 48842\n",
      "Columna: workclass, Cantidad de valores: 47879\n",
      "Columna: fnlwgt, Cantidad de valores: 48842\n",
      "Columna: education, Cantidad de valores: 48842\n",
      "Columna: education-num, Cantidad de valores: 48842\n",
      "Columna: marital-status, Cantidad de valores: 48842\n",
      "Columna: occupation, Cantidad de valores: 47876\n",
      "Columna: relationship, Cantidad de valores: 48842\n",
      "Columna: race, Cantidad de valores: 48842\n",
      "Columna: sex, Cantidad de valores: 48842\n",
      "Columna: capital-gain, Cantidad de valores: 48842\n",
      "Columna: capital-loss, Cantidad de valores: 48842\n",
      "Columna: hours-per-week, Cantidad de valores: 48842\n",
      "Columna: native-country, Cantidad de valores: 48568\n",
      "Columna: income, Cantidad de valores: 48842\n"
     ]
    }
   ],
   "source": [
    "# Itera sobre las columnas y cuenta la cantidad de valores\n",
    "for columna in df.columns:\n",
    "    cantidad_valores = df[columna].count()\n",
    "    print(f\"Columna: {columna}, Cantidad de valores: {cantidad_valores}\")"
   ]
  },
  {
   "cell_type": "markdown",
   "id": "2376a9b1-3183-493f-8be4-6f6337548f03",
   "metadata": {},
   "source": [
    "# 3.Cantidad De Valores Distintos.\n"
   ]
  },
  {
   "cell_type": "code",
   "execution_count": 17,
   "id": "b6b32643-cde6-4d1b-b369-ac3f0209d6fd",
   "metadata": {},
   "outputs": [
    {
     "name": "stdout",
     "output_type": "stream",
     "text": [
      "Unnamed: 0        48842\n",
      "age                  74\n",
      "workclass             9\n",
      "fnlwgt            28523\n",
      "education            16\n",
      "education-num        16\n",
      "marital-status        7\n",
      "occupation           15\n",
      "relationship          6\n",
      "race                  5\n",
      "sex                   2\n",
      "capital-gain        123\n",
      "capital-loss         99\n",
      "hours-per-week       96\n",
      "native-country       42\n",
      "income                4\n",
      "dtype: int64\n"
     ]
    }
   ],
   "source": [
    "#Definicion de valores unicos\n",
    "\n",
    "cantidad_valores_u = df.nunique()\n",
    "print(cantidad_valores_u)\n"
   ]
  },
  {
   "cell_type": "markdown",
   "id": "73205d9b-2882-4cf5-9c82-54e3e54ed934",
   "metadata": {},
   "source": [
    "# 4.Cantidad De Valores Nulos.\n"
   ]
  },
  {
   "cell_type": "code",
   "execution_count": 12,
   "id": "2ecb263c-c1cc-4b5f-b679-2bd227fa057a",
   "metadata": {},
   "outputs": [
    {
     "name": "stdout",
     "output_type": "stream",
     "text": [
      "Columna: Unnamed: 0, Valores nulos: 0\n",
      "Columna: age, Valores nulos: 0\n",
      "Columna: workclass, Valores nulos: 963\n",
      "Columna: fnlwgt, Valores nulos: 0\n",
      "Columna: education, Valores nulos: 0\n",
      "Columna: education-num, Valores nulos: 0\n",
      "Columna: marital-status, Valores nulos: 0\n",
      "Columna: occupation, Valores nulos: 966\n",
      "Columna: relationship, Valores nulos: 0\n",
      "Columna: race, Valores nulos: 0\n",
      "Columna: sex, Valores nulos: 0\n",
      "Columna: capital-gain, Valores nulos: 0\n",
      "Columna: capital-loss, Valores nulos: 0\n",
      "Columna: hours-per-week, Valores nulos: 0\n",
      "Columna: native-country, Valores nulos: 274\n",
      "Columna: income, Valores nulos: 0\n"
     ]
    }
   ],
   "source": [
    "\n",
    "for columna in df.columns:\n",
    "    valores_nulos = df[columna].isnull().sum()\n",
    "    print(f\"Columna: {columna}, Valores nulos: {valores_nulos}\")"
   ]
  },
  {
   "cell_type": "markdown",
   "id": "f85c4212-aa89-49fe-b816-7bd66e4b5023",
   "metadata": {},
   "source": [
    "# 5.Informe."
   ]
  },
  {
   "cell_type": "markdown",
   "id": "d31cb796-e352-4b1d-8480-f3073e874029",
   "metadata": {},
   "source": [
    "#### Con esta función se crea automanticamente un informe con la table df que calcula la totalidad de las siguientes variables:\n",
    "#### 1.Contar\n",
    "#### 2.Media\n",
    "#### 3.Desviación\n",
    "#### 4.Minimo\n",
    "#### 5.Cuartiles\n",
    "#### 6.Maximo"
   ]
  },
  {
   "cell_type": "code",
   "execution_count": 21,
   "id": "65324086-5d2f-43b8-bd52-f5dcdc742f56",
   "metadata": {},
   "outputs": [
    {
     "data": {
      "text/html": [
       "<div>\n",
       "<style scoped>\n",
       "    .dataframe tbody tr th:only-of-type {\n",
       "        vertical-align: middle;\n",
       "    }\n",
       "\n",
       "    .dataframe tbody tr th {\n",
       "        vertical-align: top;\n",
       "    }\n",
       "\n",
       "    .dataframe thead th {\n",
       "        text-align: right;\n",
       "    }\n",
       "</style>\n",
       "<table border=\"1\" class=\"dataframe\">\n",
       "  <thead>\n",
       "    <tr style=\"text-align: right;\">\n",
       "      <th></th>\n",
       "      <th>Unnamed: 0</th>\n",
       "      <th>age</th>\n",
       "      <th>fnlwgt</th>\n",
       "      <th>education-num</th>\n",
       "      <th>capital-gain</th>\n",
       "      <th>capital-loss</th>\n",
       "      <th>hours-per-week</th>\n",
       "    </tr>\n",
       "  </thead>\n",
       "  <tbody>\n",
       "    <tr>\n",
       "      <th>count</th>\n",
       "      <td>48842.000000</td>\n",
       "      <td>48842.000000</td>\n",
       "      <td>4.884200e+04</td>\n",
       "      <td>48842.000000</td>\n",
       "      <td>48842.000000</td>\n",
       "      <td>48842.000000</td>\n",
       "      <td>48842.000000</td>\n",
       "    </tr>\n",
       "    <tr>\n",
       "      <th>mean</th>\n",
       "      <td>24420.500000</td>\n",
       "      <td>38.643585</td>\n",
       "      <td>1.896641e+05</td>\n",
       "      <td>10.078089</td>\n",
       "      <td>1079.067626</td>\n",
       "      <td>87.502314</td>\n",
       "      <td>40.422382</td>\n",
       "    </tr>\n",
       "    <tr>\n",
       "      <th>std</th>\n",
       "      <td>14099.615261</td>\n",
       "      <td>13.710510</td>\n",
       "      <td>1.056040e+05</td>\n",
       "      <td>2.570973</td>\n",
       "      <td>7452.019058</td>\n",
       "      <td>403.004552</td>\n",
       "      <td>12.391444</td>\n",
       "    </tr>\n",
       "    <tr>\n",
       "      <th>min</th>\n",
       "      <td>0.000000</td>\n",
       "      <td>17.000000</td>\n",
       "      <td>1.228500e+04</td>\n",
       "      <td>1.000000</td>\n",
       "      <td>0.000000</td>\n",
       "      <td>0.000000</td>\n",
       "      <td>1.000000</td>\n",
       "    </tr>\n",
       "    <tr>\n",
       "      <th>25%</th>\n",
       "      <td>12210.250000</td>\n",
       "      <td>28.000000</td>\n",
       "      <td>1.175505e+05</td>\n",
       "      <td>9.000000</td>\n",
       "      <td>0.000000</td>\n",
       "      <td>0.000000</td>\n",
       "      <td>40.000000</td>\n",
       "    </tr>\n",
       "    <tr>\n",
       "      <th>50%</th>\n",
       "      <td>24420.500000</td>\n",
       "      <td>37.000000</td>\n",
       "      <td>1.781445e+05</td>\n",
       "      <td>10.000000</td>\n",
       "      <td>0.000000</td>\n",
       "      <td>0.000000</td>\n",
       "      <td>40.000000</td>\n",
       "    </tr>\n",
       "    <tr>\n",
       "      <th>75%</th>\n",
       "      <td>36630.750000</td>\n",
       "      <td>48.000000</td>\n",
       "      <td>2.376420e+05</td>\n",
       "      <td>12.000000</td>\n",
       "      <td>0.000000</td>\n",
       "      <td>0.000000</td>\n",
       "      <td>45.000000</td>\n",
       "    </tr>\n",
       "    <tr>\n",
       "      <th>max</th>\n",
       "      <td>48841.000000</td>\n",
       "      <td>90.000000</td>\n",
       "      <td>1.490400e+06</td>\n",
       "      <td>16.000000</td>\n",
       "      <td>99999.000000</td>\n",
       "      <td>4356.000000</td>\n",
       "      <td>99.000000</td>\n",
       "    </tr>\n",
       "  </tbody>\n",
       "</table>\n",
       "</div>"
      ],
      "text/plain": [
       "         Unnamed: 0           age        fnlwgt  education-num  capital-gain  \\\n",
       "count  48842.000000  48842.000000  4.884200e+04   48842.000000  48842.000000   \n",
       "mean   24420.500000     38.643585  1.896641e+05      10.078089   1079.067626   \n",
       "std    14099.615261     13.710510  1.056040e+05       2.570973   7452.019058   \n",
       "min        0.000000     17.000000  1.228500e+04       1.000000      0.000000   \n",
       "25%    12210.250000     28.000000  1.175505e+05       9.000000      0.000000   \n",
       "50%    24420.500000     37.000000  1.781445e+05      10.000000      0.000000   \n",
       "75%    36630.750000     48.000000  2.376420e+05      12.000000      0.000000   \n",
       "max    48841.000000     90.000000  1.490400e+06      16.000000  99999.000000   \n",
       "\n",
       "       capital-loss  hours-per-week  \n",
       "count  48842.000000    48842.000000  \n",
       "mean      87.502314       40.422382  \n",
       "std      403.004552       12.391444  \n",
       "min        0.000000        1.000000  \n",
       "25%        0.000000       40.000000  \n",
       "50%        0.000000       40.000000  \n",
       "75%        0.000000       45.000000  \n",
       "max     4356.000000       99.000000  "
      ]
     },
     "execution_count": 21,
     "metadata": {},
     "output_type": "execute_result"
    }
   ],
   "source": [
    "df.describe()"
   ]
  },
  {
   "cell_type": "code",
   "execution_count": null,
   "id": "3b621285-d196-4915-b377-e6e7d264d491",
   "metadata": {},
   "outputs": [],
   "source": []
  }
 ],
 "metadata": {
  "kernelspec": {
   "display_name": "Python 3 (ipykernel)",
   "language": "python",
   "name": "python3"
  },
  "language_info": {
   "codemirror_mode": {
    "name": "ipython",
    "version": 3
   },
   "file_extension": ".py",
   "mimetype": "text/x-python",
   "name": "python",
   "nbconvert_exporter": "python",
   "pygments_lexer": "ipython3",
   "version": "3.11.7"
  }
 },
 "nbformat": 4,
 "nbformat_minor": 5
}
